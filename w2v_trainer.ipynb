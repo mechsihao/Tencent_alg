{
 "cells": [
  {
   "cell_type": "code",
   "execution_count": 11,
   "metadata": {},
   "outputs": [],
   "source": [
    "import os\n",
    "import sys\n",
    "import numpy as np \n",
    "import pandas as pd\n",
    "import logging #日志相关\n",
    "import gc\n",
    "import pickle\n",
    "import json\n",
    "import time\n",
    "import tempfile\n",
    "from gensim.models import Word2Vec\n",
    "from gensim.test.utils import common_texts, get_tmpfile\n",
    "from prosess_data import *\n",
    "from train_word_vector import *"
   ]
  },
  {
   "cell_type": "code",
   "execution_count": 3,
   "metadata": {},
   "outputs": [
    {
     "name": "stdout",
     "output_type": "stream",
     "text": [
      "11:24:43 INFO: ===================================\n",
      "11:24:43 INFO: Begin executing at Thu Jun 18 11:24:43 2020\n",
      "11:24:43 INFO: ===================================\n",
      "11:24:43 INFO: Shuffled index ready\n",
      "11:24:44 INFO: Training ground truth data ready\n"
     ]
    },
    {
     "name": "stderr",
     "output_type": "stream",
     "text": [
      "creative id: 100%|█████████████████████████████████████████████████████| 63668283/63668283 [04:06<00:00, 258353.41it/s]\n"
     ]
    },
    {
     "name": "stdout",
     "output_type": "stream",
     "text": [
      "11:30:29 INFO: Creative ID sequence data ready\n"
     ]
    },
    {
     "name": "stderr",
     "output_type": "stream",
     "text": [
      "advertiser id: 100%|███████████████████████████████████████████████████| 63668283/63668283 [03:12<00:00, 330874.48it/s]\n"
     ]
    },
    {
     "name": "stdout",
     "output_type": "stream",
     "text": [
      "11:35:54 INFO: Advertiser ID sequence data ready\n"
     ]
    },
    {
     "name": "stderr",
     "output_type": "stream",
     "text": [
      "product id: 100%|██████████████████████████████████████████████████████| 63668283/63668283 [01:49<00:00, 582344.30it/s]\n"
     ]
    },
    {
     "name": "stdout",
     "output_type": "stream",
     "text": [
      "11:39:10 INFO: Product ID sequence data ready\n"
     ]
    },
    {
     "name": "stderr",
     "output_type": "stream",
     "text": [
      "ad id: 100%|███████████████████████████████████████████████████████████| 63668283/63668283 [03:31<00:00, 301039.37it/s]\n"
     ]
    },
    {
     "name": "stdout",
     "output_type": "stream",
     "text": [
      "11:44:34 INFO: Ad ID sequence data ready\n"
     ]
    },
    {
     "name": "stderr",
     "output_type": "stream",
     "text": [
      "industry id: 100%|█████████████████████████████████████████████████████| 63668283/63668283 [01:39<00:00, 636705.02it/s]\n"
     ]
    },
    {
     "name": "stdout",
     "output_type": "stream",
     "text": [
      "11:47:30 INFO: Industry ID sequence data ready\n"
     ]
    },
    {
     "name": "stderr",
     "output_type": "stream",
     "text": [
      "product category id: 100%|█████████████████████████████████████████████| 63668283/63668283 [02:20<00:00, 453470.00it/s]\n"
     ]
    },
    {
     "name": "stdout",
     "output_type": "stream",
     "text": [
      "11:51:27 INFO: Product Category ID sequence data ready\n"
     ]
    }
   ],
   "source": [
    "logger = initiate_logger('input_generate.log')\n",
    "generate(logger=logger)"
   ]
  },
  {
   "cell_type": "code",
   "execution_count": 40,
   "metadata": {},
   "outputs": [
    {
     "data": {
      "text/plain": [
       "array([459465, 585123, 285956, ..., 769366, 256720, 484982])"
      ]
     },
     "execution_count": 40,
     "metadata": {},
     "output_type": "execute_result"
    }
   ],
   "source": [
    "train_idx = np.load(\"./input_artifact/train_idx_shuffle.npy\")"
   ]
  },
  {
   "cell_type": "code",
   "execution_count": 3,
   "metadata": {},
   "outputs": [],
   "source": [
    "cwd = os.getcwd()\n",
    "embed_path = os.path.join(cwd, 'embed_artifact')\n",
    "\n",
    "# Training corpus for w2v model\n",
    "corpus_dic = {\n",
    "    'creative': os.path.join(embed_path, 'embed_train_creative_id_seq.pkl'),\n",
    "    'ad': os.path.join(embed_path, 'embed_train_ad_id_seq.pkl'),\n",
    "    'advertiser': os.path.join(embed_path, 'embed_train_advertiser_id_seq.pkl'),\n",
    "    'product': os.path.join(embed_path, 'embed_train_product_id_seq.pkl'),\n",
    "    'industry': os.path.join(embed_path, 'embed_train_industry_id_seq.pkl'),\n",
    "    'product_category': os.path.join(embed_path, 'embed_train_product_category_id_seq.pkl')\n",
    "}"
   ]
  },
  {
   "cell_type": "code",
   "execution_count": 63,
   "metadata": {},
   "outputs": [],
   "source": [
    "def train_wor2vec(target,embed_size):\n",
    "    # Set up w2v model registry\n",
    "    registry_path = os.path.join(embed_path, 'w2v_registry.json')\n",
    "    if os.path.isfile(registry_path):\n",
    "        with open(registry_path, 'r') as f:\n",
    "            w2v_registry = json.load(f)\n",
    "    else:\n",
    "        w2v_registry = {}\n",
    "\n",
    "    # Set up word vector registey\n",
    "    wv_registry_path = os.path.join(embed_path, 'wv_registry.json')\n",
    "    if os.path.isfile(wv_registry_path):\n",
    "        with open(wv_registry_path, 'r') as f:\n",
    "            wv_registry = json.load(f)\n",
    "    else:\n",
    "        wv_registry = {}\n",
    "\n",
    "    logger = initiate_logger('train_w2v.log')\n",
    "\n",
    "    # Train w2v model if there hasn't been one registered\n",
    "    if target not in w2v_registry:\n",
    "        w2v_path = train(target, embed_size, logger=logger)\n",
    "        w2v_registry[target] = w2v_path\n",
    "        wv_path = save_wv(target, embed_size, logger=logger)\n",
    "        wv_registry[target] = wv_path\n",
    "    else:\n",
    "        logger.info('{} w2v model found, skip training'.format(target.capitalize()))\n",
    "\n",
    "    # Save word vector if there hasn't been one registered\n",
    "    if target not in wv_registry:\n",
    "        wv_path = save_wv(target, embed_size, logger=logger)\n",
    "        wv_registry[target] = wv_path\n",
    "    else:\n",
    "        logger.info('{} word vector found, skip saving'.format(target.capitalize()))\n",
    "\n",
    "    # Save w2v model registry\n",
    "    with open(registry_path, 'w') as f:\n",
    "        json.dump(w2v_registry, f)\n",
    "\n",
    "    # Save word vector registry\n",
    "    with open(wv_registry_path, 'w') as f:\n",
    "        json.dump(wv_registry, f)"
   ]
  },
  {
   "cell_type": "code",
   "execution_count": null,
   "metadata": {},
   "outputs": [
    {
     "name": "stdout",
     "output_type": "stream",
     "text": [
      "11:18:35 INFO: ===================================\n",
      "11:18:35 INFO: ===================================\n",
      "11:18:35 INFO: ===================================\n",
      "11:18:35 INFO: Begin executing at Thu Jun 18 11:18:35 2020\n",
      "11:18:35 INFO: Begin executing at Thu Jun 18 11:18:35 2020\n",
      "11:18:35 INFO: Begin executing at Thu Jun 18 11:18:35 2020\n",
      "11:18:35 INFO: ===================================\n",
      "11:18:35 INFO: ===================================\n",
      "11:18:35 INFO: ===================================\n",
      "11:22:33 INFO: Creative corpus is loaded after 237.46s\n",
      "11:22:33 INFO: Creative corpus is loaded after 237.46s\n",
      "11:22:33 INFO: Creative corpus is loaded after 237.46s\n"
     ]
    }
   ],
   "source": [
    "for target in corpus_dic.keys():\n",
    "    train_wor2vec(target,128)"
   ]
  },
  {
   "cell_type": "code",
   "execution_count": null,
   "metadata": {},
   "outputs": [],
   "source": []
  },
  {
   "cell_type": "code",
   "execution_count": null,
   "metadata": {},
   "outputs": [],
   "source": []
  },
  {
   "cell_type": "code",
   "execution_count": null,
   "metadata": {},
   "outputs": [],
   "source": []
  },
  {
   "cell_type": "code",
   "execution_count": null,
   "metadata": {},
   "outputs": [],
   "source": []
  }
 ],
 "metadata": {
  "kernelspec": {
   "display_name": "Python 3",
   "language": "python",
   "name": "python3"
  },
  "language_info": {
   "codemirror_mode": {
    "name": "ipython",
    "version": 3
   },
   "file_extension": ".py",
   "mimetype": "text/x-python",
   "name": "python",
   "nbconvert_exporter": "python",
   "pygments_lexer": "ipython3",
   "version": "3.7.6"
  }
 },
 "nbformat": 4,
 "nbformat_minor": 4
}
