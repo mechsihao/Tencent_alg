{
 "cells": [
  {
   "cell_type": "code",
   "execution_count": 1,
   "metadata": {},
   "outputs": [],
   "source": [
    "import pandas as pd\n",
    "import numpy as np\n",
    "import pickle"
   ]
  },
  {
   "cell_type": "code",
   "execution_count": 6,
   "metadata": {},
   "outputs": [],
   "source": [
    "ad = pd.read_csv(\"./train_preliminary/ad.csv\")\n",
    "user = pd.read_csv(\"./train_preliminary/user.csv\")\n",
    "click = pd.read_csv(\"./train_preliminary/click_log.csv\")"
   ]
  },
  {
   "cell_type": "code",
   "execution_count": 4,
   "metadata": {},
   "outputs": [],
   "source": [
    "\"\"\"f = open(\"./input_artifact/train_creative_id_seq.pkl\",\"rb+\")\n",
    "train_cre_id_v = pickle.load(f)\n",
    "f.close()\n",
    "f = open(\"./input_artifact/train_ad_id_seq.pkl\",\"rb+\")\n",
    "train_ad_id_v = pickle.load(f)\n",
    "f.close()\"\"\""
   ]
  },
  {
   "cell_type": "code",
   "execution_count": 3,
   "metadata": {},
   "outputs": [],
   "source": [
    "train_index = np.load(\"./input_artifact/train_idx_shuffle.npy\")"
   ]
  },
  {
   "cell_type": "code",
   "execution_count": 4,
   "metadata": {},
   "outputs": [
    {
     "data": {
      "text/plain": [
       "array([459465, 585123, 285956, ..., 769366, 256720, 484982])"
      ]
     },
     "execution_count": 4,
     "metadata": {},
     "output_type": "execute_result"
    }
   ],
   "source": [
    "train_index"
   ]
  },
  {
   "cell_type": "code",
   "execution_count": null,
   "metadata": {},
   "outputs": [],
   "source": [
    "\"\"\"train_day = []\n",
    "for i in train_index:\n",
    "    tmp_idx = list(click.loc[click.user_id == i].time)\n",
    "    tmp_idx.sort()\n",
    "    train_day.append(tmp_idx)\n",
    "np.save(\"train_day.npy\",train_day)\"\"\""
   ]
  },
  {
   "cell_type": "code",
   "execution_count": 5,
   "metadata": {},
   "outputs": [
    {
     "data": {
      "text/html": [
       "<div>\n",
       "<style scoped>\n",
       "    .dataframe tbody tr th:only-of-type {\n",
       "        vertical-align: middle;\n",
       "    }\n",
       "\n",
       "    .dataframe tbody tr th {\n",
       "        vertical-align: top;\n",
       "    }\n",
       "\n",
       "    .dataframe thead th {\n",
       "        text-align: right;\n",
       "    }\n",
       "</style>\n",
       "<table border=\"1\" class=\"dataframe\">\n",
       "  <thead>\n",
       "    <tr style=\"text-align: right;\">\n",
       "      <th></th>\n",
       "      <th>time</th>\n",
       "      <th>user_id</th>\n",
       "      <th>creative_id</th>\n",
       "      <th>click_times</th>\n",
       "    </tr>\n",
       "  </thead>\n",
       "  <tbody>\n",
       "    <tr>\n",
       "      <th>0</th>\n",
       "      <td>9</td>\n",
       "      <td>30920</td>\n",
       "      <td>567330</td>\n",
       "      <td>1</td>\n",
       "    </tr>\n",
       "    <tr>\n",
       "      <th>1</th>\n",
       "      <td>65</td>\n",
       "      <td>30920</td>\n",
       "      <td>3072255</td>\n",
       "      <td>1</td>\n",
       "    </tr>\n",
       "    <tr>\n",
       "      <th>2</th>\n",
       "      <td>56</td>\n",
       "      <td>30920</td>\n",
       "      <td>2361327</td>\n",
       "      <td>1</td>\n",
       "    </tr>\n",
       "    <tr>\n",
       "      <th>3</th>\n",
       "      <td>6</td>\n",
       "      <td>309204</td>\n",
       "      <td>325532</td>\n",
       "      <td>1</td>\n",
       "    </tr>\n",
       "    <tr>\n",
       "      <th>4</th>\n",
       "      <td>59</td>\n",
       "      <td>309204</td>\n",
       "      <td>2746730</td>\n",
       "      <td>1</td>\n",
       "    </tr>\n",
       "    <tr>\n",
       "      <th>...</th>\n",
       "      <td>...</td>\n",
       "      <td>...</td>\n",
       "      <td>...</td>\n",
       "      <td>...</td>\n",
       "    </tr>\n",
       "    <tr>\n",
       "      <th>30082766</th>\n",
       "      <td>6</td>\n",
       "      <td>30920</td>\n",
       "      <td>228129</td>\n",
       "      <td>1</td>\n",
       "    </tr>\n",
       "    <tr>\n",
       "      <th>30082767</th>\n",
       "      <td>57</td>\n",
       "      <td>30920</td>\n",
       "      <td>2361397</td>\n",
       "      <td>1</td>\n",
       "    </tr>\n",
       "    <tr>\n",
       "      <th>30082768</th>\n",
       "      <td>26</td>\n",
       "      <td>30920</td>\n",
       "      <td>629802</td>\n",
       "      <td>1</td>\n",
       "    </tr>\n",
       "    <tr>\n",
       "      <th>30082769</th>\n",
       "      <td>86</td>\n",
       "      <td>30920</td>\n",
       "      <td>2713031</td>\n",
       "      <td>1</td>\n",
       "    </tr>\n",
       "    <tr>\n",
       "      <th>30082770</th>\n",
       "      <td>25</td>\n",
       "      <td>30920</td>\n",
       "      <td>629802</td>\n",
       "      <td>1</td>\n",
       "    </tr>\n",
       "  </tbody>\n",
       "</table>\n",
       "<p>30082771 rows × 4 columns</p>\n",
       "</div>"
      ],
      "text/plain": [
       "          time  user_id  creative_id  click_times\n",
       "0            9    30920       567330            1\n",
       "1           65    30920      3072255            1\n",
       "2           56    30920      2361327            1\n",
       "3            6   309204       325532            1\n",
       "4           59   309204      2746730            1\n",
       "...        ...      ...          ...          ...\n",
       "30082766     6    30920       228129            1\n",
       "30082767    57    30920      2361397            1\n",
       "30082768    26    30920       629802            1\n",
       "30082769    86    30920      2713031            1\n",
       "30082770    25    30920       629802            1\n",
       "\n",
       "[30082771 rows x 4 columns]"
      ]
     },
     "execution_count": 5,
     "metadata": {},
     "output_type": "execute_result"
    }
   ],
   "source": [
    "click\n",
    "#time: 天粒度的时间，整数值， 取值范围[1, 91]\n",
    "#user_id: 从 1 到 N 随机编号生成的不重复的加密的用户 id， 其中 N 为用户总数目（训练集和测试集）\n",
    "#creative_id: 用户点击的广告素材的 id，采用类似于 user_id 的方式生成\n",
    "#click_times: 当天该用户点击该广告素材的次数"
   ]
  },
  {
   "cell_type": "code",
   "execution_count": 7,
   "metadata": {},
   "outputs": [
    {
     "data": {
      "text/html": [
       "<div>\n",
       "<style scoped>\n",
       "    .dataframe tbody tr th:only-of-type {\n",
       "        vertical-align: middle;\n",
       "    }\n",
       "\n",
       "    .dataframe tbody tr th {\n",
       "        vertical-align: top;\n",
       "    }\n",
       "\n",
       "    .dataframe thead th {\n",
       "        text-align: right;\n",
       "    }\n",
       "</style>\n",
       "<table border=\"1\" class=\"dataframe\">\n",
       "  <thead>\n",
       "    <tr style=\"text-align: right;\">\n",
       "      <th></th>\n",
       "      <th>user_id</th>\n",
       "      <th>age</th>\n",
       "      <th>gender</th>\n",
       "    </tr>\n",
       "  </thead>\n",
       "  <tbody>\n",
       "    <tr>\n",
       "      <th>0</th>\n",
       "      <td>1</td>\n",
       "      <td>4</td>\n",
       "      <td>1</td>\n",
       "    </tr>\n",
       "    <tr>\n",
       "      <th>1</th>\n",
       "      <td>2</td>\n",
       "      <td>10</td>\n",
       "      <td>1</td>\n",
       "    </tr>\n",
       "    <tr>\n",
       "      <th>2</th>\n",
       "      <td>3</td>\n",
       "      <td>7</td>\n",
       "      <td>2</td>\n",
       "    </tr>\n",
       "    <tr>\n",
       "      <th>3</th>\n",
       "      <td>4</td>\n",
       "      <td>5</td>\n",
       "      <td>1</td>\n",
       "    </tr>\n",
       "    <tr>\n",
       "      <th>4</th>\n",
       "      <td>5</td>\n",
       "      <td>4</td>\n",
       "      <td>1</td>\n",
       "    </tr>\n",
       "    <tr>\n",
       "      <th>...</th>\n",
       "      <td>...</td>\n",
       "      <td>...</td>\n",
       "      <td>...</td>\n",
       "    </tr>\n",
       "    <tr>\n",
       "      <th>899995</th>\n",
       "      <td>899996</td>\n",
       "      <td>5</td>\n",
       "      <td>1</td>\n",
       "    </tr>\n",
       "    <tr>\n",
       "      <th>899996</th>\n",
       "      <td>899997</td>\n",
       "      <td>3</td>\n",
       "      <td>2</td>\n",
       "    </tr>\n",
       "    <tr>\n",
       "      <th>899997</th>\n",
       "      <td>899998</td>\n",
       "      <td>4</td>\n",
       "      <td>2</td>\n",
       "    </tr>\n",
       "    <tr>\n",
       "      <th>899998</th>\n",
       "      <td>899999</td>\n",
       "      <td>3</td>\n",
       "      <td>1</td>\n",
       "    </tr>\n",
       "    <tr>\n",
       "      <th>899999</th>\n",
       "      <td>900000</td>\n",
       "      <td>3</td>\n",
       "      <td>2</td>\n",
       "    </tr>\n",
       "  </tbody>\n",
       "</table>\n",
       "<p>900000 rows × 3 columns</p>\n",
       "</div>"
      ],
      "text/plain": [
       "        user_id  age  gender\n",
       "0             1    4       1\n",
       "1             2   10       1\n",
       "2             3    7       2\n",
       "3             4    5       1\n",
       "4             5    4       1\n",
       "...         ...  ...     ...\n",
       "899995   899996    5       1\n",
       "899996   899997    3       2\n",
       "899997   899998    4       2\n",
       "899998   899999    3       1\n",
       "899999   900000    3       2\n",
       "\n",
       "[900000 rows x 3 columns]"
      ]
     },
     "execution_count": 7,
     "metadata": {},
     "output_type": "execute_result"
    }
   ],
   "source": [
    "user"
   ]
  },
  {
   "cell_type": "code",
   "execution_count": 5,
   "metadata": {},
   "outputs": [],
   "source": [
    "cre_id = list(click.creative_id)"
   ]
  },
  {
   "cell_type": "code",
   "execution_count": 12,
   "metadata": {},
   "outputs": [],
   "source": [
    "cre_id.sort()"
   ]
  },
  {
   "cell_type": "code",
   "execution_count": 5,
   "metadata": {},
   "outputs": [
    {
     "name": "stdout",
     "output_type": "stream",
     "text": [
      "训练集用户总人数: 900000\n"
     ]
    }
   ],
   "source": [
    "num_of_user= click.user_id.max()\n",
    "print(\"训练集用户总人数:\",num_of_user)"
   ]
  },
  {
   "cell_type": "code",
   "execution_count": 6,
   "metadata": {},
   "outputs": [],
   "source": [
    "import pandas as pd\n",
    "from gensim.models.word2vec import Word2Vec"
   ]
  },
  {
   "cell_type": "code",
   "execution_count": 26,
   "metadata": {},
   "outputs": [],
   "source": [
    "list(click.loc[click.user_id == 459465].time"
   ]
  },
  {
   "cell_type": "code",
   "execution_count": 6,
   "metadata": {},
   "outputs": [
    {
     "data": {
      "text/plain": [
       "22"
      ]
     },
     "execution_count": 6,
     "metadata": {},
     "output_type": "execute_result"
    }
   ],
   "source": [
    "len(a)"
   ]
  },
  {
   "cell_type": "code",
   "execution_count": 3,
   "metadata": {},
   "outputs": [
    {
     "data": {
      "text/html": [
       "<div>\n",
       "<style scoped>\n",
       "    .dataframe tbody tr th:only-of-type {\n",
       "        vertical-align: middle;\n",
       "    }\n",
       "\n",
       "    .dataframe tbody tr th {\n",
       "        vertical-align: top;\n",
       "    }\n",
       "\n",
       "    .dataframe thead th {\n",
       "        text-align: right;\n",
       "    }\n",
       "</style>\n",
       "<table border=\"1\" class=\"dataframe\">\n",
       "  <thead>\n",
       "    <tr style=\"text-align: right;\">\n",
       "      <th></th>\n",
       "      <th>time</th>\n",
       "      <th>user_id</th>\n",
       "      <th>creative_id</th>\n",
       "      <th>click_times</th>\n",
       "    </tr>\n",
       "  </thead>\n",
       "  <tbody>\n",
       "    <tr>\n",
       "      <th>2781976</th>\n",
       "      <td>51</td>\n",
       "      <td>459465</td>\n",
       "      <td>2073245</td>\n",
       "      <td>1</td>\n",
       "    </tr>\n",
       "    <tr>\n",
       "      <th>2781977</th>\n",
       "      <td>51</td>\n",
       "      <td>459465</td>\n",
       "      <td>79724</td>\n",
       "      <td>1</td>\n",
       "    </tr>\n",
       "    <tr>\n",
       "      <th>2781978</th>\n",
       "      <td>87</td>\n",
       "      <td>459465</td>\n",
       "      <td>4145990</td>\n",
       "      <td>1</td>\n",
       "    </tr>\n",
       "    <tr>\n",
       "      <th>2781979</th>\n",
       "      <td>22</td>\n",
       "      <td>459465</td>\n",
       "      <td>120916</td>\n",
       "      <td>1</td>\n",
       "    </tr>\n",
       "    <tr>\n",
       "      <th>2781980</th>\n",
       "      <td>66</td>\n",
       "      <td>459465</td>\n",
       "      <td>2221084</td>\n",
       "      <td>1</td>\n",
       "    </tr>\n",
       "    <tr>\n",
       "      <th>2781981</th>\n",
       "      <td>71</td>\n",
       "      <td>459465</td>\n",
       "      <td>2741342</td>\n",
       "      <td>1</td>\n",
       "    </tr>\n",
       "    <tr>\n",
       "      <th>2781982</th>\n",
       "      <td>64</td>\n",
       "      <td>459465</td>\n",
       "      <td>2221084</td>\n",
       "      <td>1</td>\n",
       "    </tr>\n",
       "    <tr>\n",
       "      <th>2781983</th>\n",
       "      <td>69</td>\n",
       "      <td>459465</td>\n",
       "      <td>2741342</td>\n",
       "      <td>1</td>\n",
       "    </tr>\n",
       "    <tr>\n",
       "      <th>2781984</th>\n",
       "      <td>62</td>\n",
       "      <td>459465</td>\n",
       "      <td>2221084</td>\n",
       "      <td>1</td>\n",
       "    </tr>\n",
       "    <tr>\n",
       "      <th>2781985</th>\n",
       "      <td>64</td>\n",
       "      <td>459465</td>\n",
       "      <td>3072230</td>\n",
       "      <td>1</td>\n",
       "    </tr>\n",
       "    <tr>\n",
       "      <th>2781986</th>\n",
       "      <td>78</td>\n",
       "      <td>459465</td>\n",
       "      <td>3493015</td>\n",
       "      <td>1</td>\n",
       "    </tr>\n",
       "    <tr>\n",
       "      <th>2781987</th>\n",
       "      <td>83</td>\n",
       "      <td>459465</td>\n",
       "      <td>3976756</td>\n",
       "      <td>1</td>\n",
       "    </tr>\n",
       "    <tr>\n",
       "      <th>2781988</th>\n",
       "      <td>69</td>\n",
       "      <td>459465</td>\n",
       "      <td>3072238</td>\n",
       "      <td>1</td>\n",
       "    </tr>\n",
       "    <tr>\n",
       "      <th>2781989</th>\n",
       "      <td>69</td>\n",
       "      <td>459465</td>\n",
       "      <td>3072233</td>\n",
       "      <td>1</td>\n",
       "    </tr>\n",
       "    <tr>\n",
       "      <th>2781990</th>\n",
       "      <td>63</td>\n",
       "      <td>459465</td>\n",
       "      <td>1120599</td>\n",
       "      <td>1</td>\n",
       "    </tr>\n",
       "    <tr>\n",
       "      <th>2781991</th>\n",
       "      <td>67</td>\n",
       "      <td>459465</td>\n",
       "      <td>2220962</td>\n",
       "      <td>1</td>\n",
       "    </tr>\n",
       "    <tr>\n",
       "      <th>2781992</th>\n",
       "      <td>71</td>\n",
       "      <td>459465</td>\n",
       "      <td>3322009</td>\n",
       "      <td>1</td>\n",
       "    </tr>\n",
       "    <tr>\n",
       "      <th>2781993</th>\n",
       "      <td>10</td>\n",
       "      <td>459465</td>\n",
       "      <td>617239</td>\n",
       "      <td>1</td>\n",
       "    </tr>\n",
       "    <tr>\n",
       "      <th>2781994</th>\n",
       "      <td>69</td>\n",
       "      <td>459465</td>\n",
       "      <td>2161252</td>\n",
       "      <td>1</td>\n",
       "    </tr>\n",
       "    <tr>\n",
       "      <th>2781995</th>\n",
       "      <td>65</td>\n",
       "      <td>459465</td>\n",
       "      <td>3064252</td>\n",
       "      <td>1</td>\n",
       "    </tr>\n",
       "    <tr>\n",
       "      <th>2781996</th>\n",
       "      <td>84</td>\n",
       "      <td>459465</td>\n",
       "      <td>3915694</td>\n",
       "      <td>1</td>\n",
       "    </tr>\n",
       "    <tr>\n",
       "      <th>2781997</th>\n",
       "      <td>90</td>\n",
       "      <td>459465</td>\n",
       "      <td>4378871</td>\n",
       "      <td>1</td>\n",
       "    </tr>\n",
       "  </tbody>\n",
       "</table>\n",
       "</div>"
      ],
      "text/plain": [
       "         time  user_id  creative_id  click_times\n",
       "2781976    51   459465      2073245            1\n",
       "2781977    51   459465        79724            1\n",
       "2781978    87   459465      4145990            1\n",
       "2781979    22   459465       120916            1\n",
       "2781980    66   459465      2221084            1\n",
       "2781981    71   459465      2741342            1\n",
       "2781982    64   459465      2221084            1\n",
       "2781983    69   459465      2741342            1\n",
       "2781984    62   459465      2221084            1\n",
       "2781985    64   459465      3072230            1\n",
       "2781986    78   459465      3493015            1\n",
       "2781987    83   459465      3976756            1\n",
       "2781988    69   459465      3072238            1\n",
       "2781989    69   459465      3072233            1\n",
       "2781990    63   459465      1120599            1\n",
       "2781991    67   459465      2220962            1\n",
       "2781992    71   459465      3322009            1\n",
       "2781993    10   459465       617239            1\n",
       "2781994    69   459465      2161252            1\n",
       "2781995    65   459465      3064252            1\n",
       "2781996    84   459465      3915694            1\n",
       "2781997    90   459465      4378871            1"
      ]
     },
     "execution_count": 3,
     "metadata": {},
     "output_type": "execute_result"
    }
   ],
   "source": [
    "click.loc[click.user_id == 459465]"
   ]
  },
  {
   "cell_type": "code",
   "execution_count": 9,
   "metadata": {},
   "outputs": [],
   "source": [
    "user_id = {}\n",
    "for userid in click.user_id:\n",
    "    if userid not in user_id:\n",
    "        user_id[userid] = 1 "
   ]
  },
  {
   "cell_type": "code",
   "execution_count": 16,
   "metadata": {},
   "outputs": [],
   "source": [
    "user_id_key = user_id.keys()"
   ]
  },
  {
   "cell_type": "code",
   "execution_count": 20,
   "metadata": {},
   "outputs": [],
   "source": [
    "user_id_key = list(user_id_key)"
   ]
  },
  {
   "cell_type": "code",
   "execution_count": 22,
   "metadata": {},
   "outputs": [],
   "source": [
    "user_id_key.sort()"
   ]
  },
  {
   "cell_type": "code",
   "execution_count": 25,
   "metadata": {},
   "outputs": [
    {
     "data": {
      "text/plain": [
       "900000"
      ]
     },
     "execution_count": 25,
     "metadata": {},
     "output_type": "execute_result"
    }
   ],
   "source": [
    "len(user_id_key)"
   ]
  },
  {
   "cell_type": "code",
   "execution_count": 29,
   "metadata": {},
   "outputs": [
    {
     "data": {
      "text/plain": [
       "1"
      ]
     },
     "execution_count": 29,
     "metadata": {},
     "output_type": "execute_result"
    }
   ],
   "source": [
    "user_id_key[0]"
   ]
  },
  {
   "cell_type": "code",
   "execution_count": null,
   "metadata": {},
   "outputs": [],
   "source": [
    "train_text = []\n",
    "for userid in range(1,900001):\n",
    "    tmp_click_time = [0] * 91\n",
    "    tmp_text = [\"0\"] * 91\n",
    "    tmp_data = click.loc[click.user_id == userid]\n",
    "    for i in range(len(tmp_data)):\n",
    "        tmp_text[tmp_data.time - 1] = str(tmp_data.creative_id)\n",
    "        tmp_click_time[tmp_data.time - 1] = tmp_data.click_times\n",
    "    click_times = []"
   ]
  },
  {
   "cell_type": "code",
   "execution_count": 33,
   "metadata": {},
   "outputs": [
    {
     "data": {
      "text/plain": [
       "['0', '0', '0', '0']"
      ]
     },
     "execution_count": 33,
     "metadata": {},
     "output_type": "execute_result"
    }
   ],
   "source": []
  },
  {
   "cell_type": "code",
   "execution_count": null,
   "metadata": {},
   "outputs": [],
   "source": []
  },
  {
   "cell_type": "code",
   "execution_count": null,
   "metadata": {},
   "outputs": [],
   "source": []
  },
  {
   "cell_type": "code",
   "execution_count": null,
   "metadata": {},
   "outputs": [],
   "source": []
  }
 ],
 "metadata": {
  "kernelspec": {
   "display_name": "Python 3",
   "language": "python",
   "name": "python3"
  },
  "language_info": {
   "codemirror_mode": {
    "name": "ipython",
    "version": 3
   },
   "file_extension": ".py",
   "mimetype": "text/x-python",
   "name": "python",
   "nbconvert_exporter": "python",
   "pygments_lexer": "ipython3",
   "version": "3.7.6"
  }
 },
 "nbformat": 4,
 "nbformat_minor": 4
}
